{
  "nbformat": 4,
  "nbformat_minor": 0,
  "metadata": {
    "colab": {
      "name": "chapter3_list.ipynb",
      "provenance": [],
      "authorship_tag": "ABX9TyPKKmWnzllgCqQhhEBT2hI+",
      "include_colab_link": true
    },
    "kernelspec": {
      "name": "python3",
      "display_name": "Python 3"
    },
    "language_info": {
      "name": "python"
    }
  },
  "cells": [
    {
      "cell_type": "markdown",
      "metadata": {
        "id": "view-in-github",
        "colab_type": "text"
      },
      "source": [
        "<a href=\"https://colab.research.google.com/github/kim-ji-youn/Study-with-NLP-books/blob/main/chapter3_list.ipynb\" target=\"_parent\"><img src=\"https://colab.research.google.com/assets/colab-badge.svg\" alt=\"Open In Colab\"/></a>"
      ]
    },
    {
      "cell_type": "markdown",
      "source": [
        "## 3.2. 리스트\n",
        "* 데이터를 순차적으로 파악하는데 유용\n",
        "* 내용의 순서를 바꿀 수 있어 유용\n",
        "* 변경 가능\n",
        "* 새로운 요소를 추가하거나 삭제 혹은 기존 요소를 덮어쓸 수 있음\n",
        "* 동일한 값이 여러번 나타날 수 있음"
      ],
      "metadata": {
        "id": "nXLBzErI0NIw"
      }
    },
    {
      "cell_type": "markdown",
      "source": [
        "## 3.2.1. 리스트 생성하기"
      ],
      "metadata": {
        "id": "2BfbKALD0jKw"
      }
    },
    {
      "cell_type": "code",
      "source": [
        "empty_list = []\n",
        "weekday = ['Monday', 'Tuesday', 'Wednesday', 'Thursday', 'Friday']"
      ],
      "metadata": {
        "id": "_g7Y1Qua0i4r"
      },
      "execution_count": 24,
      "outputs": []
    },
    {
      "cell_type": "code",
      "execution_count": 25,
      "metadata": {
        "id": "jMC81Vmv0Jc0"
      },
      "outputs": [],
      "source": [
        "another_empty_list = list()"
      ]
    },
    {
      "cell_type": "code",
      "source": [
        "print(empty_list)\n",
        "print(another_empty_list)"
      ],
      "metadata": {
        "colab": {
          "base_uri": "https://localhost:8080/"
        },
        "id": "rBliTLoS1g_3",
        "outputId": "5a7161a1-be1c-4573-8779-7e7e83b837d6"
      },
      "execution_count": 26,
      "outputs": [
        {
          "output_type": "stream",
          "name": "stdout",
          "text": [
            "[]\n",
            "[]\n"
          ]
        }
      ]
    },
    {
      "cell_type": "markdown",
      "source": [
        "### 3.2.2. 다른 데이터 타입을 리스트로 변환하기: list()"
      ],
      "metadata": {
        "id": "8iS-3aJh1l4a"
      }
    },
    {
      "cell_type": "code",
      "source": [
        "list('cat')"
      ],
      "metadata": {
        "colab": {
          "base_uri": "https://localhost:8080/"
        },
        "id": "Ij2vJy8j1kHC",
        "outputId": "7fabbe83-5d68-49fb-b913-d425e4a8f74b"
      },
      "execution_count": 27,
      "outputs": [
        {
          "output_type": "execute_result",
          "data": {
            "text/plain": [
              "['c', 'a', 't']"
            ]
          },
          "metadata": {},
          "execution_count": 27
        }
      ]
    },
    {
      "cell_type": "code",
      "source": [
        "tuple1 = ('Go', 'get', 'it')\n",
        "list(tuple1)"
      ],
      "metadata": {
        "colab": {
          "base_uri": "https://localhost:8080/"
        },
        "id": "iW6Y9Vzy1qNB",
        "outputId": "567b7150-b88c-40d8-c742-bad5ec9456ff"
      },
      "execution_count": 28,
      "outputs": [
        {
          "output_type": "execute_result",
          "data": {
            "text/plain": [
              "['Go', 'get', 'it']"
            ]
          },
          "metadata": {},
          "execution_count": 28
        }
      ]
    },
    {
      "cell_type": "code",
      "source": [
        "birthday = '1992/10/18'\n",
        "birthday.split('/')"
      ],
      "metadata": {
        "colab": {
          "base_uri": "https://localhost:8080/"
        },
        "id": "pqpQsJBp1xRC",
        "outputId": "86fbf93a-461b-4398-ffef-85ad6db0acfb"
      },
      "execution_count": 29,
      "outputs": [
        {
          "output_type": "execute_result",
          "data": {
            "text/plain": [
              "['1992', '10', '18']"
            ]
          },
          "metadata": {},
          "execution_count": 29
        }
      ]
    },
    {
      "cell_type": "code",
      "source": [
        "split_test = 'a/b/c///d/e'\n",
        "split_test.split(\"/\")"
      ],
      "metadata": {
        "colab": {
          "base_uri": "https://localhost:8080/"
        },
        "id": "HRYs5aTz12IY",
        "outputId": "c3febd1f-3b59-4d42-8698-fe29fd99b70c"
      },
      "execution_count": 30,
      "outputs": [
        {
          "output_type": "execute_result",
          "data": {
            "text/plain": [
              "['a', 'b', 'c', '', '', 'd', 'e']"
            ]
          },
          "metadata": {},
          "execution_count": 30
        }
      ]
    },
    {
      "cell_type": "code",
      "source": [
        "split_test.split(\"//\")"
      ],
      "metadata": {
        "colab": {
          "base_uri": "https://localhost:8080/"
        },
        "id": "iL0HQ1Wx19BN",
        "outputId": "f49db923-8ed9-46d5-812f-91d170e75936"
      },
      "execution_count": 31,
      "outputs": [
        {
          "output_type": "execute_result",
          "data": {
            "text/plain": [
              "['a/b/c', '/d/e']"
            ]
          },
          "metadata": {},
          "execution_count": 31
        }
      ]
    },
    {
      "cell_type": "markdown",
      "source": [
        "### 3.2.3. [index]로 요소 얻기\n",
        "* 문자열과 마찬가지로 인덱스 번호를 통해 특정값을 추출할 수 있다. -> 0부터 시작\n",
        "* 문자열과 마찬가지로 음수는 끝에서 거꾸로 값을 추출한다. -> -1부터 시작"
      ],
      "metadata": {
        "id": "4EH7kesv2hlC"
      }
    },
    {
      "cell_type": "code",
      "source": [
        "sur_name = ['kim', 'lee', 'park']\n",
        "sur_name[0]"
      ],
      "metadata": {
        "colab": {
          "base_uri": "https://localhost:8080/",
          "height": 35
        },
        "id": "Eq9A8cyK2An9",
        "outputId": "a8d1d87b-2394-43af-e97d-0406f93f65d1"
      },
      "execution_count": 32,
      "outputs": [
        {
          "output_type": "execute_result",
          "data": {
            "text/plain": [
              "'kim'"
            ],
            "application/vnd.google.colaboratory.intrinsic+json": {
              "type": "string"
            }
          },
          "metadata": {},
          "execution_count": 32
        }
      ]
    },
    {
      "cell_type": "code",
      "source": [
        "#오류\n",
        "sur_name[5]"
      ],
      "metadata": {
        "colab": {
          "base_uri": "https://localhost:8080/",
          "height": 190
        },
        "id": "jFDnYtiB3E0p",
        "outputId": "a480af85-7d7a-4105-e18b-de11514cd9f1"
      },
      "execution_count": 33,
      "outputs": [
        {
          "output_type": "error",
          "ename": "IndexError",
          "evalue": "ignored",
          "traceback": [
            "\u001b[0;31m---------------------------------------------------------------------------\u001b[0m",
            "\u001b[0;31mIndexError\u001b[0m                                Traceback (most recent call last)",
            "\u001b[0;32m<ipython-input-33-bc12666b81e6>\u001b[0m in \u001b[0;36m<module>\u001b[0;34m()\u001b[0m\n\u001b[1;32m      1\u001b[0m \u001b[0;31m#오류\u001b[0m\u001b[0;34m\u001b[0m\u001b[0;34m\u001b[0m\u001b[0;34m\u001b[0m\u001b[0m\n\u001b[0;32m----> 2\u001b[0;31m \u001b[0msur_name\u001b[0m\u001b[0;34m[\u001b[0m\u001b[0;36m5\u001b[0m\u001b[0;34m]\u001b[0m\u001b[0;34m\u001b[0m\u001b[0;34m\u001b[0m\u001b[0m\n\u001b[0m",
            "\u001b[0;31mIndexError\u001b[0m: list index out of range"
          ]
        }
      ]
    },
    {
      "cell_type": "markdown",
      "source": [
        "### 3.2.4. 리스트의 리스트\n",
        "* 리스트의 요소로는 리스트뿐만 아니라 다른 타입의 요소도 가능하다. \n",
        "* 인덱스를 이용하여 리스트의 리스트 내에 있는 요소를 얻을 수 있다. "
      ],
      "metadata": {
        "id": "dmqGRgMy3JjW"
      }
    },
    {
      "cell_type": "code",
      "source": [
        "small_birds = ['hummingbird', 'finch']\n",
        "extinct_birds = ['dodo', 'passenger pigeon', 'Norwegian Blue']\n",
        "carol_birds = [3, 'French hens', 2, 'tutledoves']\n",
        "all_birds = [small_birds, extinct_birds, carol_birds, 'macaw']\n",
        "all_birds"
      ],
      "metadata": {
        "colab": {
          "base_uri": "https://localhost:8080/"
        },
        "id": "ursAgQFg3Heq",
        "outputId": "1cb704a1-aa2f-458d-e71b-334f5b074605"
      },
      "execution_count": 34,
      "outputs": [
        {
          "output_type": "execute_result",
          "data": {
            "text/plain": [
              "[['hummingbird', 'finch'],\n",
              " ['dodo', 'passenger pigeon', 'Norwegian Blue'],\n",
              " [3, 'French hens', 2, 'tutledoves'],\n",
              " 'macaw']"
            ]
          },
          "metadata": {},
          "execution_count": 34
        }
      ]
    },
    {
      "cell_type": "code",
      "source": [
        "all_birds[0]"
      ],
      "metadata": {
        "colab": {
          "base_uri": "https://localhost:8080/"
        },
        "id": "wzsDmLiv3sG0",
        "outputId": "221626fb-a9a3-4e2e-8103-474a40519339"
      },
      "execution_count": 35,
      "outputs": [
        {
          "output_type": "execute_result",
          "data": {
            "text/plain": [
              "['hummingbird', 'finch']"
            ]
          },
          "metadata": {},
          "execution_count": 35
        }
      ]
    },
    {
      "cell_type": "code",
      "source": [
        "all_birds[0][1]"
      ],
      "metadata": {
        "colab": {
          "base_uri": "https://localhost:8080/",
          "height": 35
        },
        "id": "GXyty4In3uoF",
        "outputId": "53ab0695-4862-44d5-a3f8-fe9442d58fc1"
      },
      "execution_count": 36,
      "outputs": [
        {
          "output_type": "execute_result",
          "data": {
            "text/plain": [
              "'finch'"
            ],
            "application/vnd.google.colaboratory.intrinsic+json": {
              "type": "string"
            }
          },
          "metadata": {},
          "execution_count": 36
        }
      ]
    },
    {
      "cell_type": "markdown",
      "source": [
        "### 3.2.5. [index]로 항목 바꾸기"
      ],
      "metadata": {
        "id": "s5HgncpyAiXx"
      }
    },
    {
      "cell_type": "code",
      "source": [
        "sur_name = ['kim', 'park', 'lee']\n",
        "sur_name[2] = 'choi'\n",
        "sur_name"
      ],
      "metadata": {
        "colab": {
          "base_uri": "https://localhost:8080/"
        },
        "id": "s7CxmNDb3w09",
        "outputId": "586668fe-d16e-4240-c0dd-05f58fa4931e"
      },
      "execution_count": 37,
      "outputs": [
        {
          "output_type": "execute_result",
          "data": {
            "text/plain": [
              "['kim', 'park', 'choi']"
            ]
          },
          "metadata": {},
          "execution_count": 37
        }
      ]
    },
    {
      "cell_type": "markdown",
      "source": [
        "### 3.2.6. 슬라이스로 항목 추출하기"
      ],
      "metadata": {
        "id": "abX0_CTRLrYq"
      }
    },
    {
      "cell_type": "code",
      "source": [
        "sur_name"
      ],
      "metadata": {
        "colab": {
          "base_uri": "https://localhost:8080/"
        },
        "id": "-q_SUK7XCQ52",
        "outputId": "c7302d17-f3eb-4178-ae1c-6f60f6ac2557"
      },
      "execution_count": 38,
      "outputs": [
        {
          "output_type": "execute_result",
          "data": {
            "text/plain": [
              "['kim', 'park', 'choi']"
            ]
          },
          "metadata": {},
          "execution_count": 38
        }
      ]
    },
    {
      "cell_type": "code",
      "source": [
        "sur_name[0:2]"
      ],
      "metadata": {
        "colab": {
          "base_uri": "https://localhost:8080/"
        },
        "id": "Ygj86oOUMAvm",
        "outputId": "d1ab9ded-1722-4e58-841a-214e3bdf4d42"
      },
      "execution_count": 39,
      "outputs": [
        {
          "output_type": "execute_result",
          "data": {
            "text/plain": [
              "['kim', 'park']"
            ]
          },
          "metadata": {},
          "execution_count": 39
        }
      ]
    },
    {
      "cell_type": "code",
      "source": [
        "#오른쪽에서 시작하여 2 step씩\n",
        "sur_name[::2]"
      ],
      "metadata": {
        "colab": {
          "base_uri": "https://localhost:8080/"
        },
        "id": "RNha0DWLMEuM",
        "outputId": "342eecbe-b322-4d1e-9710-9fa08ef14c3c"
      },
      "execution_count": 40,
      "outputs": [
        {
          "output_type": "execute_result",
          "data": {
            "text/plain": [
              "['kim', 'choi']"
            ]
          },
          "metadata": {},
          "execution_count": 40
        }
      ]
    },
    {
      "cell_type": "code",
      "source": [
        "#왼쪽에서 시작하여 2 step씩\n",
        "sur_name[::-2]"
      ],
      "metadata": {
        "colab": {
          "base_uri": "https://localhost:8080/"
        },
        "id": "5ovhISvMMI7w",
        "outputId": "7b36b09e-804f-42d8-ced4-f2d9747a4c66"
      },
      "execution_count": 41,
      "outputs": [
        {
          "output_type": "execute_result",
          "data": {
            "text/plain": [
              "['choi', 'kim']"
            ]
          },
          "metadata": {},
          "execution_count": 41
        }
      ]
    },
    {
      "cell_type": "code",
      "source": [
        "#리스트 반전\n",
        "sur_name[::-1]"
      ],
      "metadata": {
        "colab": {
          "base_uri": "https://localhost:8080/"
        },
        "id": "hcmcqsoSMb7N",
        "outputId": "cfb0ef3f-48fd-4801-be49-5a44958a6376"
      },
      "execution_count": 42,
      "outputs": [
        {
          "output_type": "execute_result",
          "data": {
            "text/plain": [
              "['choi', 'park', 'kim']"
            ]
          },
          "metadata": {},
          "execution_count": 42
        }
      ]
    },
    {
      "cell_type": "markdown",
      "source": [
        "### 3.2.7. 리스트의 끝에 항목 추가하기 : append()"
      ],
      "metadata": {
        "id": "-wvh3IzoMkjO"
      }
    },
    {
      "cell_type": "code",
      "source": [
        "sur_name.append('lee')\n",
        "sur_name"
      ],
      "metadata": {
        "colab": {
          "base_uri": "https://localhost:8080/"
        },
        "id": "VeNdQ8O0MjNf",
        "outputId": "3b0dcb37-0e52-4c39-b1dd-10bb600848ad"
      },
      "execution_count": 43,
      "outputs": [
        {
          "output_type": "execute_result",
          "data": {
            "text/plain": [
              "['kim', 'park', 'choi', 'lee']"
            ]
          },
          "metadata": {},
          "execution_count": 43
        }
      ]
    },
    {
      "cell_type": "markdown",
      "source": [
        "### 3.2.8. 리스트 병합하기: extend() 또는 +="
      ],
      "metadata": {
        "id": "ODQYCurfNec7"
      }
    },
    {
      "cell_type": "code",
      "source": [
        "sur_name = ['kim', 'park', 'choi', 'lee']\n",
        "other = ['ahn', 'cho']\n",
        "sur_name.extend(other)\n",
        "sur_name"
      ],
      "metadata": {
        "colab": {
          "base_uri": "https://localhost:8080/"
        },
        "id": "OJVxbvF3NMMF",
        "outputId": "3faf01b2-1fbf-4c3b-ae20-b8bd1ba6e796"
      },
      "execution_count": 44,
      "outputs": [
        {
          "output_type": "execute_result",
          "data": {
            "text/plain": [
              "['kim', 'park', 'choi', 'lee', 'ahn', 'cho']"
            ]
          },
          "metadata": {},
          "execution_count": 44
        }
      ]
    },
    {
      "cell_type": "code",
      "source": [
        "sur_name = ['kim', 'park', 'choi', 'lee']\n",
        "other = ['ahn', 'cho']\n",
        "sur_name += other\n",
        "sur_name"
      ],
      "metadata": {
        "colab": {
          "base_uri": "https://localhost:8080/"
        },
        "id": "68e8yPBzOCS-",
        "outputId": "2e1382ac-d45b-4ed0-b8a1-b166e620cdaf"
      },
      "execution_count": 45,
      "outputs": [
        {
          "output_type": "execute_result",
          "data": {
            "text/plain": [
              "['kim', 'park', 'choi', 'lee', 'ahn', 'cho']"
            ]
          },
          "metadata": {},
          "execution_count": 45
        }
      ]
    },
    {
      "cell_type": "code",
      "source": [
        "#append와 차이!\n",
        "sur_name = ['kim', 'park', 'choi', 'lee']\n",
        "other = ['ahn', 'cho']\n",
        "sur_name.append(other)\n",
        "sur_name"
      ],
      "metadata": {
        "colab": {
          "base_uri": "https://localhost:8080/"
        },
        "id": "Gm8-NbWnOHKV",
        "outputId": "e4fdd7d4-963d-4d5a-be6a-a5ffa261ef24"
      },
      "execution_count": 46,
      "outputs": [
        {
          "output_type": "execute_result",
          "data": {
            "text/plain": [
              "['kim', 'park', 'choi', 'lee', ['ahn', 'cho']]"
            ]
          },
          "metadata": {},
          "execution_count": 46
        }
      ]
    },
    {
      "cell_type": "markdown",
      "source": [
        "### 3.2.9. index와 insert()로 항목 추가하기"
      ],
      "metadata": {
        "id": "3Z9fFp4LOZ2f"
      }
    },
    {
      "cell_type": "code",
      "source": [
        "sur_name = ['kim', 'ahn', 'park', 'choi']\n",
        "sur_name.insert(1, 'hong')\n",
        "sur_name"
      ],
      "metadata": {
        "colab": {
          "base_uri": "https://localhost:8080/"
        },
        "id": "vdRr4i8gOXXs",
        "outputId": "377514c2-b30a-4f2a-e774-f1308685e9cd"
      },
      "execution_count": 47,
      "outputs": [
        {
          "output_type": "execute_result",
          "data": {
            "text/plain": [
              "['kim', 'hong', 'ahn', 'park', 'choi']"
            ]
          },
          "metadata": {},
          "execution_count": 47
        }
      ]
    },
    {
      "cell_type": "code",
      "source": [
        "sur_name.insert(10, 'lee')\n",
        "sur_name"
      ],
      "metadata": {
        "colab": {
          "base_uri": "https://localhost:8080/"
        },
        "id": "bDHU3yuBbXer",
        "outputId": "bc16e5f2-a517-48e2-d3a6-b7b183b0a8d8"
      },
      "execution_count": 48,
      "outputs": [
        {
          "output_type": "execute_result",
          "data": {
            "text/plain": [
              "['kim', 'hong', 'ahn', 'park', 'choi', 'lee']"
            ]
          },
          "metadata": {},
          "execution_count": 48
        }
      ]
    },
    {
      "cell_type": "code",
      "source": [
        "sur_name.insert(10, ['oh', 'han'])\n",
        "sur_name"
      ],
      "metadata": {
        "colab": {
          "base_uri": "https://localhost:8080/"
        },
        "id": "sPnBR7Ffbb6Q",
        "outputId": "082dfcb7-facb-484a-ea7d-33c42ab29a34"
      },
      "execution_count": 49,
      "outputs": [
        {
          "output_type": "execute_result",
          "data": {
            "text/plain": [
              "['kim', 'hong', 'ahn', 'park', 'choi', 'lee', ['oh', 'han']]"
            ]
          },
          "metadata": {},
          "execution_count": 49
        }
      ]
    },
    {
      "cell_type": "markdown",
      "source": [
        "### 3.2.10 인덱스로 항목 삭제하기 : del"
      ],
      "metadata": {
        "id": "S5NW9rjocG-a"
      }
    },
    {
      "cell_type": "code",
      "source": [
        "del sur_name[-1]\n",
        "sur_name"
      ],
      "metadata": {
        "colab": {
          "base_uri": "https://localhost:8080/"
        },
        "id": "TQEAwmfWb4RT",
        "outputId": "9216c8fe-ea2d-4f5c-9a05-e3b6babfd165"
      },
      "execution_count": 50,
      "outputs": [
        {
          "output_type": "execute_result",
          "data": {
            "text/plain": [
              "['kim', 'hong', 'ahn', 'park', 'choi', 'lee']"
            ]
          },
          "metadata": {},
          "execution_count": 50
        }
      ]
    },
    {
      "cell_type": "markdown",
      "source": [
        "### 3.2.11 값으로 항목 삭제하기: remove()"
      ],
      "metadata": {
        "id": "3tVp6Cdwdgsf"
      }
    },
    {
      "cell_type": "code",
      "source": [
        "names = ['kim', 'park', 'lee']\n",
        "names.remove('park')\n",
        "names"
      ],
      "metadata": {
        "id": "y71kQHHJcRAp",
        "colab": {
          "base_uri": "https://localhost:8080/"
        },
        "outputId": "9007a3d0-5215-4a2d-fb38-1adc18775888"
      },
      "execution_count": 51,
      "outputs": [
        {
          "output_type": "execute_result",
          "data": {
            "text/plain": [
              "['kim', 'lee']"
            ]
          },
          "metadata": {},
          "execution_count": 51
        }
      ]
    },
    {
      "cell_type": "markdown",
      "source": [
        "### 3.2.12. 인덱스로 항목을 얻은 후 삭제하기: pop()"
      ],
      "metadata": {
        "id": "TAtReeYMZDVj"
      }
    },
    {
      "cell_type": "code",
      "source": [
        "names = ['kim', 'park', 'lee', 'hong']\n",
        "names.pop()\n",
        "names"
      ],
      "metadata": {
        "colab": {
          "base_uri": "https://localhost:8080/"
        },
        "id": "lBD5VkUwY-7B",
        "outputId": "b0a9d9c8-d141-4aa0-c061-99caa1f489cd"
      },
      "execution_count": 52,
      "outputs": [
        {
          "output_type": "execute_result",
          "data": {
            "text/plain": [
              "['kim', 'park', 'lee']"
            ]
          },
          "metadata": {},
          "execution_count": 52
        }
      ]
    },
    {
      "cell_type": "code",
      "source": [
        "names.pop(1)\n",
        "names"
      ],
      "metadata": {
        "colab": {
          "base_uri": "https://localhost:8080/"
        },
        "id": "Pfy8XoiiZzN-",
        "outputId": "6446cdc8-31f4-4249-f66c-ddf929b53293"
      },
      "execution_count": 53,
      "outputs": [
        {
          "output_type": "execute_result",
          "data": {
            "text/plain": [
              "['kim', 'lee']"
            ]
          },
          "metadata": {},
          "execution_count": 53
        }
      ]
    },
    {
      "cell_type": "markdown",
      "source": [
        "### 3.2.13. 값으로 요소 인덱스 찾기: index()"
      ],
      "metadata": {
        "id": "ZcKKIkM51v_3"
      }
    },
    {
      "cell_type": "code",
      "source": [
        "names = ['kim', 'park', 'lee', 'hong']\n",
        "names.index('kim')"
      ],
      "metadata": {
        "colab": {
          "base_uri": "https://localhost:8080/"
        },
        "id": "yuxQ6FqUZ1jp",
        "outputId": "41f7a963-da8e-4c28-81d7-5269abc16e85"
      },
      "execution_count": 54,
      "outputs": [
        {
          "output_type": "execute_result",
          "data": {
            "text/plain": [
              "0"
            ]
          },
          "metadata": {},
          "execution_count": 54
        }
      ]
    },
    {
      "cell_type": "markdown",
      "source": [
        "### 3.2.14. 존재여부 확인하기: in"
      ],
      "metadata": {
        "id": "WQHU6uQA2dht"
      }
    },
    {
      "cell_type": "code",
      "source": [
        "names = ['kim', 'park', 'lee', 'hong']\n",
        "'jee' in names"
      ],
      "metadata": {
        "colab": {
          "base_uri": "https://localhost:8080/"
        },
        "id": "U8lS8iAL17uy",
        "outputId": "d6d37c66-3dd0-4a29-f604-b11c480e2804"
      },
      "execution_count": 55,
      "outputs": [
        {
          "output_type": "execute_result",
          "data": {
            "text/plain": [
              "False"
            ]
          },
          "metadata": {},
          "execution_count": 55
        }
      ]
    },
    {
      "cell_type": "markdown",
      "source": [
        "### 3.2.15. 값 세기: count()"
      ],
      "metadata": {
        "id": "yQjS-FST3I2e"
      }
    },
    {
      "cell_type": "code",
      "source": [
        "students = ['kim', 'kim', 'lee', 'park', 'jee', 'yoon']\n",
        "students.count('kim')"
      ],
      "metadata": {
        "colab": {
          "base_uri": "https://localhost:8080/"
        },
        "id": "Io1CO8XX2n5x",
        "outputId": "d1a258d7-42c9-40b2-8309-f585682aeaab"
      },
      "execution_count": 56,
      "outputs": [
        {
          "output_type": "execute_result",
          "data": {
            "text/plain": [
              "2"
            ]
          },
          "metadata": {},
          "execution_count": 56
        }
      ]
    },
    {
      "cell_type": "code",
      "source": [
        "students.count('hong')"
      ],
      "metadata": {
        "colab": {
          "base_uri": "https://localhost:8080/"
        },
        "id": "YABtHgX73aoh",
        "outputId": "ec3c8ef8-0728-4781-9f23-c12023e30f43"
      },
      "execution_count": 57,
      "outputs": [
        {
          "output_type": "execute_result",
          "data": {
            "text/plain": [
              "0"
            ]
          },
          "metadata": {},
          "execution_count": 57
        }
      ]
    },
    {
      "cell_type": "markdown",
      "source": [
        "### 3.2.16. 문자열로 변환하기: join()"
      ],
      "metadata": {
        "id": "FQ3LsNdQt7mD"
      }
    },
    {
      "cell_type": "code",
      "source": [
        "students = ['kim', 'lee', 'park', 'jee', 'yoon']\n",
        "students = ','.join(students)\n",
        "students"
      ],
      "metadata": {
        "colab": {
          "base_uri": "https://localhost:8080/",
          "height": 35
        },
        "id": "MNk2JFqW3lY3",
        "outputId": "34fba460-7be2-4ef0-c147-9dc971ac9dce"
      },
      "execution_count": 58,
      "outputs": [
        {
          "output_type": "execute_result",
          "data": {
            "text/plain": [
              "'kim,lee,park,jee,yoon'"
            ],
            "application/vnd.google.colaboratory.intrinsic+json": {
              "type": "string"
            }
          },
          "metadata": {},
          "execution_count": 58
        }
      ]
    },
    {
      "cell_type": "markdown",
      "source": [
        "### 3.2.17. 정렬하기: sort()"
      ],
      "metadata": {
        "id": "wQ-FJ5fsuoL2"
      }
    },
    {
      "cell_type": "code",
      "source": [
        "students = ['kim', 'lee', 'park', 'jee', 'yoon']\n",
        "sorted_students = sorted(students)\n",
        "sorted_students"
      ],
      "metadata": {
        "colab": {
          "base_uri": "https://localhost:8080/"
        },
        "id": "wkjE8QfXuHvK",
        "outputId": "08152fcc-f702-408f-bdfd-b8eb2e95a11b"
      },
      "execution_count": 59,
      "outputs": [
        {
          "output_type": "execute_result",
          "data": {
            "text/plain": [
              "['jee', 'kim', 'lee', 'park', 'yoon']"
            ]
          },
          "metadata": {},
          "execution_count": 59
        }
      ]
    },
    {
      "cell_type": "code",
      "source": [
        "students"
      ],
      "metadata": {
        "colab": {
          "base_uri": "https://localhost:8080/"
        },
        "id": "iACGUMLHvW2W",
        "outputId": "69285dec-41e0-4056-afb3-8296d21c7ca5"
      },
      "execution_count": 60,
      "outputs": [
        {
          "output_type": "execute_result",
          "data": {
            "text/plain": [
              "['kim', 'lee', 'park', 'jee', 'yoon']"
            ]
          },
          "metadata": {},
          "execution_count": 60
        }
      ]
    },
    {
      "cell_type": "code",
      "source": [
        "students.sort()\n",
        "students"
      ],
      "metadata": {
        "colab": {
          "base_uri": "https://localhost:8080/"
        },
        "id": "wBJvrNetvZl5",
        "outputId": "738d3e0a-b4c6-406b-d4c7-d3e107fe4a04"
      },
      "execution_count": 61,
      "outputs": [
        {
          "output_type": "execute_result",
          "data": {
            "text/plain": [
              "['jee', 'kim', 'lee', 'park', 'yoon']"
            ]
          },
          "metadata": {},
          "execution_count": 61
        }
      ]
    },
    {
      "cell_type": "markdown",
      "source": [
        "### 3.2.18. 할당: =, 복사: copy()"
      ],
      "metadata": {
        "id": "11jrveldxJSp"
      }
    },
    {
      "cell_type": "code",
      "source": [
        "a = [1, 2, 3]\n",
        "b = a\n",
        "a"
      ],
      "metadata": {
        "colab": {
          "base_uri": "https://localhost:8080/"
        },
        "id": "eCXt6sF1vbg-",
        "outputId": "cafad714-a0dc-4990-e864-971754c46251"
      },
      "execution_count": 62,
      "outputs": [
        {
          "output_type": "execute_result",
          "data": {
            "text/plain": [
              "[1, 2, 3]"
            ]
          },
          "metadata": {},
          "execution_count": 62
        }
      ]
    },
    {
      "cell_type": "code",
      "source": [
        "b"
      ],
      "metadata": {
        "colab": {
          "base_uri": "https://localhost:8080/"
        },
        "id": "p55kEjbsxRSg",
        "outputId": "626dc0ba-6517-42c3-a7ef-9676620f6528"
      },
      "execution_count": 63,
      "outputs": [
        {
          "output_type": "execute_result",
          "data": {
            "text/plain": [
              "[1, 2, 3]"
            ]
          },
          "metadata": {},
          "execution_count": 63
        }
      ]
    },
    {
      "cell_type": "code",
      "source": [
        "a[0] = 'change'\n",
        "a"
      ],
      "metadata": {
        "colab": {
          "base_uri": "https://localhost:8080/"
        },
        "id": "J7BQOUcwxTCd",
        "outputId": "52596a15-0130-4804-ebb8-439af0486aea"
      },
      "execution_count": 64,
      "outputs": [
        {
          "output_type": "execute_result",
          "data": {
            "text/plain": [
              "['change', 2, 3]"
            ]
          },
          "metadata": {},
          "execution_count": 64
        }
      ]
    },
    {
      "cell_type": "code",
      "source": [
        "b"
      ],
      "metadata": {
        "colab": {
          "base_uri": "https://localhost:8080/"
        },
        "id": "7B1jkA5hxV66",
        "outputId": "7384a365-1f46-4822-e82e-94459b68f900"
      },
      "execution_count": 65,
      "outputs": [
        {
          "output_type": "execute_result",
          "data": {
            "text/plain": [
              "['change', 2, 3]"
            ]
          },
          "metadata": {},
          "execution_count": 65
        }
      ]
    },
    {
      "cell_type": "code",
      "source": [
        "a = [1, 2, 3]\n",
        "b = a.copy()\n",
        "c = list(a)\n",
        "d = a[:]\n",
        "a"
      ],
      "metadata": {
        "colab": {
          "base_uri": "https://localhost:8080/"
        },
        "id": "rc4Mr2PzxWfx",
        "outputId": "0293e2db-4d5a-4580-dea4-4a1e9b7ac9a3"
      },
      "execution_count": 66,
      "outputs": [
        {
          "output_type": "execute_result",
          "data": {
            "text/plain": [
              "[1, 2, 3]"
            ]
          },
          "metadata": {},
          "execution_count": 66
        }
      ]
    },
    {
      "cell_type": "code",
      "source": [
        "b"
      ],
      "metadata": {
        "colab": {
          "base_uri": "https://localhost:8080/"
        },
        "id": "8G-vzp1AxfuQ",
        "outputId": "b8314183-8490-47ab-d99f-60cd416f7600"
      },
      "execution_count": 67,
      "outputs": [
        {
          "output_type": "execute_result",
          "data": {
            "text/plain": [
              "[1, 2, 3]"
            ]
          },
          "metadata": {},
          "execution_count": 67
        }
      ]
    },
    {
      "cell_type": "code",
      "source": [
        "a[0] = 'change'\n",
        "a"
      ],
      "metadata": {
        "colab": {
          "base_uri": "https://localhost:8080/"
        },
        "id": "taw7Y5NtxgMj",
        "outputId": "0f737238-4a24-4ba0-954b-4faef06066ff"
      },
      "execution_count": 68,
      "outputs": [
        {
          "output_type": "execute_result",
          "data": {
            "text/plain": [
              "['change', 2, 3]"
            ]
          },
          "metadata": {},
          "execution_count": 68
        }
      ]
    },
    {
      "cell_type": "code",
      "source": [
        "b"
      ],
      "metadata": {
        "colab": {
          "base_uri": "https://localhost:8080/"
        },
        "id": "ETEewhGOxhlR",
        "outputId": "66ec9b82-06ee-4072-c934-559db39479c7"
      },
      "execution_count": 69,
      "outputs": [
        {
          "output_type": "execute_result",
          "data": {
            "text/plain": [
              "[1, 2, 3]"
            ]
          },
          "metadata": {},
          "execution_count": 69
        }
      ]
    },
    {
      "cell_type": "code",
      "source": [
        "c"
      ],
      "metadata": {
        "colab": {
          "base_uri": "https://localhost:8080/"
        },
        "id": "gnmzPMdzxkAA",
        "outputId": "52235339-0a8b-4d95-b196-2e010c2903ea"
      },
      "execution_count": 70,
      "outputs": [
        {
          "output_type": "execute_result",
          "data": {
            "text/plain": [
              "[1, 2, 3]"
            ]
          },
          "metadata": {},
          "execution_count": 70
        }
      ]
    },
    {
      "cell_type": "code",
      "source": [
        "d"
      ],
      "metadata": {
        "colab": {
          "base_uri": "https://localhost:8080/"
        },
        "id": "Q-9FfOlU0M-f",
        "outputId": "3c2f9e6b-5b89-4327-f334-cc4cd740e83b"
      },
      "execution_count": 71,
      "outputs": [
        {
          "output_type": "execute_result",
          "data": {
            "text/plain": [
              "[1, 2, 3]"
            ]
          },
          "metadata": {},
          "execution_count": 71
        }
      ]
    },
    {
      "cell_type": "code",
      "source": [
        ""
      ],
      "metadata": {
        "id": "nFQnBWxu0TeO"
      },
      "execution_count": null,
      "outputs": []
    }
  ]
}
